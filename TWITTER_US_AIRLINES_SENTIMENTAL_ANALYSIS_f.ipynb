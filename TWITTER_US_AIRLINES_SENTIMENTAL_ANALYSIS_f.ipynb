{
  "nbformat": 4,
  "nbformat_minor": 0,
  "metadata": {
    "colab": {
      "name": "TWITTER US AIRLINES SENTIMENTAL ANALYSIS_f.ipynb",
      "provenance": [],
      "collapsed_sections": [],
      "authorship_tag": "ABX9TyMTAL5d+eaiK/wxGI6C+zOh",
      "include_colab_link": true
    },
    "kernelspec": {
      "name": "python3",
      "display_name": "Python 3"
    },
    "accelerator": "GPU"
  },
  "cells": [
    {
      "cell_type": "markdown",
      "metadata": {
        "id": "view-in-github",
        "colab_type": "text"
      },
      "source": [
        "<a href=\"https://colab.research.google.com/github/pkor725/Text-CLassification-with-neural-networks/blob/master/TWITTER_US_AIRLINES_SENTIMENTAL_ANALYSIS_f.ipynb\" target=\"_parent\"><img src=\"https://colab.research.google.com/assets/colab-badge.svg\" alt=\"Open In Colab\"/></a>"
      ]
    },
    {
      "cell_type": "code",
      "metadata": {
        "id": "TSRDvn-cR1H-",
        "colab_type": "code",
        "outputId": "27203805-963f-493f-f2c6-587ec942a283",
        "colab": {
          "base_uri": "https://localhost:8080/",
          "height": 916
        }
      },
      "source": [
        "# from __future__ import absolute_import, division, print_function, unicode_literals\n",
        "\n",
        "# try:\n",
        "#   # %tensorflow_version only exists in Colab.\n",
        "#   %tensorflow_version 2.x\n",
        "# except Exception:\n",
        "#   pass\n",
        "# import tensorflow as tf\n",
        "\n",
        "import numpy as np\n",
        "import os\n",
        "import time\n",
        "import pandas as pd\n",
        "\n",
        "!pip install tensorflow-hub\n",
        "!pip install tfds-nightly\n",
        "import tensorflow_hub as hub\n",
        "# import tensorflow_datasets as tfds"
      ],
      "execution_count": 0,
      "outputs": [
        {
          "output_type": "stream",
          "text": [
            "Requirement already satisfied: tensorflow-hub in /usr/local/lib/python3.6/dist-packages (0.7.0)\n",
            "Requirement already satisfied: protobuf>=3.4.0 in /usr/local/lib/python3.6/dist-packages (from tensorflow-hub) (3.10.0)\n",
            "Requirement already satisfied: numpy>=1.12.0 in /usr/local/lib/python3.6/dist-packages (from tensorflow-hub) (1.17.5)\n",
            "Requirement already satisfied: six>=1.10.0 in /usr/local/lib/python3.6/dist-packages (from tensorflow-hub) (1.12.0)\n",
            "Requirement already satisfied: setuptools in /usr/local/lib/python3.6/dist-packages (from protobuf>=3.4.0->tensorflow-hub) (45.1.0)\n",
            "Requirement already satisfied: tfds-nightly in /usr/local/lib/python3.6/dist-packages (2.0.0.dev202002240106)\n",
            "Requirement already satisfied: attrs>=18.1.0 in /usr/local/lib/python3.6/dist-packages (from tfds-nightly) (19.3.0)\n",
            "Requirement already satisfied: tensorflow-metadata in /usr/local/lib/python3.6/dist-packages (from tfds-nightly) (0.21.1)\n",
            "Requirement already satisfied: numpy in /usr/local/lib/python3.6/dist-packages (from tfds-nightly) (1.17.5)\n",
            "Requirement already satisfied: wrapt in /usr/local/lib/python3.6/dist-packages (from tfds-nightly) (1.11.2)\n",
            "Requirement already satisfied: absl-py in /usr/local/lib/python3.6/dist-packages (from tfds-nightly) (0.9.0)\n",
            "Requirement already satisfied: future in /usr/local/lib/python3.6/dist-packages (from tfds-nightly) (0.16.0)\n",
            "Requirement already satisfied: protobuf>=3.6.1 in /usr/local/lib/python3.6/dist-packages (from tfds-nightly) (3.10.0)\n",
            "Requirement already satisfied: promise in /usr/local/lib/python3.6/dist-packages (from tfds-nightly) (2.3)\n",
            "Requirement already satisfied: six in /usr/local/lib/python3.6/dist-packages (from tfds-nightly) (1.12.0)\n",
            "Requirement already satisfied: dill in /usr/local/lib/python3.6/dist-packages (from tfds-nightly) (0.3.1.1)\n",
            "Requirement already satisfied: termcolor in /usr/local/lib/python3.6/dist-packages (from tfds-nightly) (1.1.0)\n",
            "Requirement already satisfied: requests>=2.19.0 in /usr/local/lib/python3.6/dist-packages (from tfds-nightly) (2.21.0)\n",
            "Requirement already satisfied: tqdm in /usr/local/lib/python3.6/dist-packages (from tfds-nightly) (4.28.1)\n",
            "Requirement already satisfied: googleapis-common-protos in /usr/local/lib/python3.6/dist-packages (from tensorflow-metadata->tfds-nightly) (1.51.0)\n",
            "Requirement already satisfied: setuptools in /usr/local/lib/python3.6/dist-packages (from protobuf>=3.6.1->tfds-nightly) (45.1.0)\n",
            "Requirement already satisfied: urllib3<1.25,>=1.21.1 in /usr/local/lib/python3.6/dist-packages (from requests>=2.19.0->tfds-nightly) (1.24.3)\n",
            "Requirement already satisfied: idna<2.9,>=2.5 in /usr/local/lib/python3.6/dist-packages (from requests>=2.19.0->tfds-nightly) (2.8)\n",
            "Requirement already satisfied: certifi>=2017.4.17 in /usr/local/lib/python3.6/dist-packages (from requests>=2.19.0->tfds-nightly) (2019.11.28)\n",
            "Requirement already satisfied: chardet<3.1.0,>=3.0.2 in /usr/local/lib/python3.6/dist-packages (from requests>=2.19.0->tfds-nightly) (3.0.4)\n"
          ],
          "name": "stdout"
        },
        {
          "output_type": "stream",
          "text": [
            "/usr/local/lib/python3.6/dist-packages/tensorflow/python/framework/dtypes.py:516: FutureWarning: Passing (type, 1) or '1type' as a synonym of type is deprecated; in a future version of numpy, it will be understood as (type, (1,)) / '(1,)type'.\n",
            "  _np_qint8 = np.dtype([(\"qint8\", np.int8, 1)])\n",
            "/usr/local/lib/python3.6/dist-packages/tensorflow/python/framework/dtypes.py:517: FutureWarning: Passing (type, 1) or '1type' as a synonym of type is deprecated; in a future version of numpy, it will be understood as (type, (1,)) / '(1,)type'.\n",
            "  _np_quint8 = np.dtype([(\"quint8\", np.uint8, 1)])\n",
            "/usr/local/lib/python3.6/dist-packages/tensorflow/python/framework/dtypes.py:518: FutureWarning: Passing (type, 1) or '1type' as a synonym of type is deprecated; in a future version of numpy, it will be understood as (type, (1,)) / '(1,)type'.\n",
            "  _np_qint16 = np.dtype([(\"qint16\", np.int16, 1)])\n",
            "/usr/local/lib/python3.6/dist-packages/tensorflow/python/framework/dtypes.py:519: FutureWarning: Passing (type, 1) or '1type' as a synonym of type is deprecated; in a future version of numpy, it will be understood as (type, (1,)) / '(1,)type'.\n",
            "  _np_quint16 = np.dtype([(\"quint16\", np.uint16, 1)])\n",
            "/usr/local/lib/python3.6/dist-packages/tensorflow/python/framework/dtypes.py:520: FutureWarning: Passing (type, 1) or '1type' as a synonym of type is deprecated; in a future version of numpy, it will be understood as (type, (1,)) / '(1,)type'.\n",
            "  _np_qint32 = np.dtype([(\"qint32\", np.int32, 1)])\n",
            "/usr/local/lib/python3.6/dist-packages/tensorflow/python/framework/dtypes.py:525: FutureWarning: Passing (type, 1) or '1type' as a synonym of type is deprecated; in a future version of numpy, it will be understood as (type, (1,)) / '(1,)type'.\n",
            "  np_resource = np.dtype([(\"resource\", np.ubyte, 1)])\n",
            "/usr/local/lib/python3.6/dist-packages/tensorboard/compat/tensorflow_stub/dtypes.py:541: FutureWarning: Passing (type, 1) or '1type' as a synonym of type is deprecated; in a future version of numpy, it will be understood as (type, (1,)) / '(1,)type'.\n",
            "  _np_qint8 = np.dtype([(\"qint8\", np.int8, 1)])\n",
            "/usr/local/lib/python3.6/dist-packages/tensorboard/compat/tensorflow_stub/dtypes.py:542: FutureWarning: Passing (type, 1) or '1type' as a synonym of type is deprecated; in a future version of numpy, it will be understood as (type, (1,)) / '(1,)type'.\n",
            "  _np_quint8 = np.dtype([(\"quint8\", np.uint8, 1)])\n",
            "/usr/local/lib/python3.6/dist-packages/tensorboard/compat/tensorflow_stub/dtypes.py:543: FutureWarning: Passing (type, 1) or '1type' as a synonym of type is deprecated; in a future version of numpy, it will be understood as (type, (1,)) / '(1,)type'.\n",
            "  _np_qint16 = np.dtype([(\"qint16\", np.int16, 1)])\n",
            "/usr/local/lib/python3.6/dist-packages/tensorboard/compat/tensorflow_stub/dtypes.py:544: FutureWarning: Passing (type, 1) or '1type' as a synonym of type is deprecated; in a future version of numpy, it will be understood as (type, (1,)) / '(1,)type'.\n",
            "  _np_quint16 = np.dtype([(\"quint16\", np.uint16, 1)])\n",
            "/usr/local/lib/python3.6/dist-packages/tensorboard/compat/tensorflow_stub/dtypes.py:545: FutureWarning: Passing (type, 1) or '1type' as a synonym of type is deprecated; in a future version of numpy, it will be understood as (type, (1,)) / '(1,)type'.\n",
            "  _np_qint32 = np.dtype([(\"qint32\", np.int32, 1)])\n",
            "/usr/local/lib/python3.6/dist-packages/tensorboard/compat/tensorflow_stub/dtypes.py:550: FutureWarning: Passing (type, 1) or '1type' as a synonym of type is deprecated; in a future version of numpy, it will be understood as (type, (1,)) / '(1,)type'.\n",
            "  np_resource = np.dtype([(\"resource\", np.ubyte, 1)])\n"
          ],
          "name": "stderr"
        },
        {
          "output_type": "display_data",
          "data": {
            "text/html": [
              "<p style=\"color: red;\">\n",
              "The default version of TensorFlow in Colab will soon switch to TensorFlow 2.x.<br>\n",
              "We recommend you <a href=\"https://www.tensorflow.org/guide/migrate\" target=\"_blank\">upgrade</a> now \n",
              "or ensure your notebook will continue to use TensorFlow 1.x via the <code>%tensorflow_version 1.x</code> magic:\n",
              "<a href=\"https://colab.research.google.com/notebooks/tensorflow_version.ipynb\" target=\"_blank\">more info</a>.</p>\n"
            ],
            "text/plain": [
              "<IPython.core.display.HTML object>"
            ]
          },
          "metadata": {
            "tags": []
          }
        }
      ]
    },
    {
      "cell_type": "code",
      "metadata": {
        "id": "_YzM6yoQVfTD",
        "colab_type": "code",
        "outputId": "28d24703-c3a4-4d74-ad1a-51108cf11534",
        "colab": {
          "base_uri": "https://localhost:8080/",
          "height": 445
        }
      },
      "source": [
        "df = pd.read_csv('/content/Tweets.csv')\n",
        "df.head()"
      ],
      "execution_count": 0,
      "outputs": [
        {
          "output_type": "execute_result",
          "data": {
            "text/html": [
              "<div>\n",
              "<style scoped>\n",
              "    .dataframe tbody tr th:only-of-type {\n",
              "        vertical-align: middle;\n",
              "    }\n",
              "\n",
              "    .dataframe tbody tr th {\n",
              "        vertical-align: top;\n",
              "    }\n",
              "\n",
              "    .dataframe thead th {\n",
              "        text-align: right;\n",
              "    }\n",
              "</style>\n",
              "<table border=\"1\" class=\"dataframe\">\n",
              "  <thead>\n",
              "    <tr style=\"text-align: right;\">\n",
              "      <th></th>\n",
              "      <th>tweet_id</th>\n",
              "      <th>airline_sentiment</th>\n",
              "      <th>airline_sentiment_confidence</th>\n",
              "      <th>negativereason</th>\n",
              "      <th>negativereason_confidence</th>\n",
              "      <th>airline</th>\n",
              "      <th>airline_sentiment_gold</th>\n",
              "      <th>name</th>\n",
              "      <th>negativereason_gold</th>\n",
              "      <th>retweet_count</th>\n",
              "      <th>text</th>\n",
              "      <th>tweet_coord</th>\n",
              "      <th>tweet_created</th>\n",
              "      <th>tweet_location</th>\n",
              "      <th>user_timezone</th>\n",
              "    </tr>\n",
              "  </thead>\n",
              "  <tbody>\n",
              "    <tr>\n",
              "      <th>0</th>\n",
              "      <td>570306133677760513</td>\n",
              "      <td>neutral</td>\n",
              "      <td>1.0000</td>\n",
              "      <td>NaN</td>\n",
              "      <td>NaN</td>\n",
              "      <td>Virgin America</td>\n",
              "      <td>NaN</td>\n",
              "      <td>cairdin</td>\n",
              "      <td>NaN</td>\n",
              "      <td>0</td>\n",
              "      <td>@VirginAmerica What @dhepburn said.</td>\n",
              "      <td>NaN</td>\n",
              "      <td>2015-02-24 11:35:52 -0800</td>\n",
              "      <td>NaN</td>\n",
              "      <td>Eastern Time (US &amp; Canada)</td>\n",
              "    </tr>\n",
              "    <tr>\n",
              "      <th>1</th>\n",
              "      <td>570301130888122368</td>\n",
              "      <td>positive</td>\n",
              "      <td>0.3486</td>\n",
              "      <td>NaN</td>\n",
              "      <td>0.0000</td>\n",
              "      <td>Virgin America</td>\n",
              "      <td>NaN</td>\n",
              "      <td>jnardino</td>\n",
              "      <td>NaN</td>\n",
              "      <td>0</td>\n",
              "      <td>@VirginAmerica plus you've added commercials t...</td>\n",
              "      <td>NaN</td>\n",
              "      <td>2015-02-24 11:15:59 -0800</td>\n",
              "      <td>NaN</td>\n",
              "      <td>Pacific Time (US &amp; Canada)</td>\n",
              "    </tr>\n",
              "    <tr>\n",
              "      <th>2</th>\n",
              "      <td>570301083672813571</td>\n",
              "      <td>neutral</td>\n",
              "      <td>0.6837</td>\n",
              "      <td>NaN</td>\n",
              "      <td>NaN</td>\n",
              "      <td>Virgin America</td>\n",
              "      <td>NaN</td>\n",
              "      <td>yvonnalynn</td>\n",
              "      <td>NaN</td>\n",
              "      <td>0</td>\n",
              "      <td>@VirginAmerica I didn't today... Must mean I n...</td>\n",
              "      <td>NaN</td>\n",
              "      <td>2015-02-24 11:15:48 -0800</td>\n",
              "      <td>Lets Play</td>\n",
              "      <td>Central Time (US &amp; Canada)</td>\n",
              "    </tr>\n",
              "    <tr>\n",
              "      <th>3</th>\n",
              "      <td>570301031407624196</td>\n",
              "      <td>negative</td>\n",
              "      <td>1.0000</td>\n",
              "      <td>Bad Flight</td>\n",
              "      <td>0.7033</td>\n",
              "      <td>Virgin America</td>\n",
              "      <td>NaN</td>\n",
              "      <td>jnardino</td>\n",
              "      <td>NaN</td>\n",
              "      <td>0</td>\n",
              "      <td>@VirginAmerica it's really aggressive to blast...</td>\n",
              "      <td>NaN</td>\n",
              "      <td>2015-02-24 11:15:36 -0800</td>\n",
              "      <td>NaN</td>\n",
              "      <td>Pacific Time (US &amp; Canada)</td>\n",
              "    </tr>\n",
              "    <tr>\n",
              "      <th>4</th>\n",
              "      <td>570300817074462722</td>\n",
              "      <td>negative</td>\n",
              "      <td>1.0000</td>\n",
              "      <td>Can't Tell</td>\n",
              "      <td>1.0000</td>\n",
              "      <td>Virgin America</td>\n",
              "      <td>NaN</td>\n",
              "      <td>jnardino</td>\n",
              "      <td>NaN</td>\n",
              "      <td>0</td>\n",
              "      <td>@VirginAmerica and it's a really big bad thing...</td>\n",
              "      <td>NaN</td>\n",
              "      <td>2015-02-24 11:14:45 -0800</td>\n",
              "      <td>NaN</td>\n",
              "      <td>Pacific Time (US &amp; Canada)</td>\n",
              "    </tr>\n",
              "  </tbody>\n",
              "</table>\n",
              "</div>"
            ],
            "text/plain": [
              "             tweet_id  ...               user_timezone\n",
              "0  570306133677760513  ...  Eastern Time (US & Canada)\n",
              "1  570301130888122368  ...  Pacific Time (US & Canada)\n",
              "2  570301083672813571  ...  Central Time (US & Canada)\n",
              "3  570301031407624196  ...  Pacific Time (US & Canada)\n",
              "4  570300817074462722  ...  Pacific Time (US & Canada)\n",
              "\n",
              "[5 rows x 15 columns]"
            ]
          },
          "metadata": {
            "tags": []
          },
          "execution_count": 2
        }
      ]
    },
    {
      "cell_type": "code",
      "metadata": {
        "id": "onnnIJBeWAkB",
        "colab_type": "code",
        "outputId": "3d7399ef-acf9-4021-a3f1-c9322589a46e",
        "colab": {
          "base_uri": "https://localhost:8080/",
          "height": 34
        }
      },
      "source": [
        "# Checking the shape of the dataset \n",
        "df.shape"
      ],
      "execution_count": 0,
      "outputs": [
        {
          "output_type": "execute_result",
          "data": {
            "text/plain": [
              "(14640, 15)"
            ]
          },
          "metadata": {
            "tags": []
          },
          "execution_count": 3
        }
      ]
    },
    {
      "cell_type": "code",
      "metadata": {
        "id": "WxrAwVr4WKAa",
        "colab_type": "code",
        "outputId": "e51ae080-9744-437c-b2a3-23167fbdfc9f",
        "colab": {
          "base_uri": "https://localhost:8080/",
          "height": 357
        }
      },
      "source": [
        "# Checking the data types\n",
        "df.info()"
      ],
      "execution_count": 0,
      "outputs": [
        {
          "output_type": "stream",
          "text": [
            "<class 'pandas.core.frame.DataFrame'>\n",
            "RangeIndex: 14640 entries, 0 to 14639\n",
            "Data columns (total 15 columns):\n",
            "tweet_id                        14640 non-null int64\n",
            "airline_sentiment               14640 non-null object\n",
            "airline_sentiment_confidence    14640 non-null float64\n",
            "negativereason                  9178 non-null object\n",
            "negativereason_confidence       10522 non-null float64\n",
            "airline                         14640 non-null object\n",
            "airline_sentiment_gold          40 non-null object\n",
            "name                            14640 non-null object\n",
            "negativereason_gold             32 non-null object\n",
            "retweet_count                   14640 non-null int64\n",
            "text                            14640 non-null object\n",
            "tweet_coord                     1019 non-null object\n",
            "tweet_created                   14640 non-null object\n",
            "tweet_location                  9907 non-null object\n",
            "user_timezone                   9820 non-null object\n",
            "dtypes: float64(2), int64(2), object(11)\n",
            "memory usage: 1.7+ MB\n"
          ],
          "name": "stdout"
        }
      ]
    },
    {
      "cell_type": "code",
      "metadata": {
        "id": "Syk8uF64WUMw",
        "colab_type": "code",
        "outputId": "c65ce8d4-5c91-4d57-f101-930ba9b62b16",
        "colab": {
          "base_uri": "https://localhost:8080/",
          "height": 289
        }
      },
      "source": [
        "# Checking for missing values\n",
        "df.isnull().sum()"
      ],
      "execution_count": 0,
      "outputs": [
        {
          "output_type": "execute_result",
          "data": {
            "text/plain": [
              "tweet_id                            0\n",
              "airline_sentiment                   0\n",
              "airline_sentiment_confidence        0\n",
              "negativereason                   5462\n",
              "negativereason_confidence        4118\n",
              "airline                             0\n",
              "airline_sentiment_gold          14600\n",
              "name                                0\n",
              "negativereason_gold             14608\n",
              "retweet_count                       0\n",
              "text                                0\n",
              "tweet_coord                     13621\n",
              "tweet_created                       0\n",
              "tweet_location                   4733\n",
              "user_timezone                    4820\n",
              "dtype: int64"
            ]
          },
          "metadata": {
            "tags": []
          },
          "execution_count": 5
        }
      ]
    },
    {
      "cell_type": "code",
      "metadata": {
        "id": "3Y7JAyJgWemR",
        "colab_type": "code",
        "outputId": "4546b96f-c7d0-464c-fc4b-ea03533fe9c0",
        "colab": {
          "base_uri": "https://localhost:8080/",
          "height": 238
        }
      },
      "source": [
        "# Dropping columns with mostly null values\n",
        "data = df.drop(columns = ['airline_sentiment_gold', 'negativereason_gold', 'tweet_coord'])\n",
        "data.isnull().sum()"
      ],
      "execution_count": 0,
      "outputs": [
        {
          "output_type": "execute_result",
          "data": {
            "text/plain": [
              "tweet_id                           0\n",
              "airline_sentiment                  0\n",
              "airline_sentiment_confidence       0\n",
              "negativereason                  5462\n",
              "negativereason_confidence       4118\n",
              "airline                            0\n",
              "name                               0\n",
              "retweet_count                      0\n",
              "text                               0\n",
              "tweet_created                      0\n",
              "tweet_location                  4733\n",
              "user_timezone                   4820\n",
              "dtype: int64"
            ]
          },
          "metadata": {
            "tags": []
          },
          "execution_count": 6
        }
      ]
    },
    {
      "cell_type": "code",
      "metadata": {
        "id": "WuGV4CwgWqLG",
        "colab_type": "code",
        "outputId": "f8c68aea-c170-4fd7-b4dc-0e61ebf621fa",
        "colab": {
          "base_uri": "https://localhost:8080/",
          "height": 238
        }
      },
      "source": [
        "# Confirming that missing data on reasons for negative sentiments is limited to positive or neutral tweets\n",
        "data[data['airline_sentiment'] == 'negative'].isnull().sum()"
      ],
      "execution_count": 0,
      "outputs": [
        {
          "output_type": "execute_result",
          "data": {
            "text/plain": [
              "tweet_id                           0\n",
              "airline_sentiment                  0\n",
              "airline_sentiment_confidence       0\n",
              "negativereason                     0\n",
              "negativereason_confidence          0\n",
              "airline                            0\n",
              "name                               0\n",
              "retweet_count                      0\n",
              "text                               0\n",
              "tweet_created                      0\n",
              "tweet_location                  3142\n",
              "user_timezone                   3170\n",
              "dtype: int64"
            ]
          },
          "metadata": {
            "tags": []
          },
          "execution_count": 7
        }
      ]
    },
    {
      "cell_type": "code",
      "metadata": {
        "id": "EwTAnG0tWyFt",
        "colab_type": "code",
        "outputId": "eb2e8137-3e32-4683-878b-8f93826efe97",
        "colab": {
          "base_uri": "https://localhost:8080/",
          "height": 1000
        }
      },
      "source": [
        "# Checking for outliers with boxplots\n",
        "import seaborn as sns\n",
        "import matplotlib.pyplot as plt\n",
        "numcols = data.select_dtypes(exclude = 'object')\n",
        "\n",
        "for col in numcols:\n",
        "  plt.figure()\n",
        "  sns.boxplot(data[col])"
      ],
      "execution_count": 0,
      "outputs": [
        {
          "output_type": "display_data",
          "data": {
            "image/png": "[encoded data removed]",
            "text/plain": [
              "<Figure size 432x288 with 1 Axes>"
            ]
          },
          "metadata": {
            "tags": []
          }
        },
        {
          "output_type": "display_data",
          "data": {
            "image/png": "[encoded data removed]",
            "text/plain": [
              "<Figure size 432x288 with 1 Axes>"
            ]
          },
          "metadata": {
            "tags": []
          }
        },
        {
          "output_type": "display_data",
          "data": {
            "image/png": "[encoded data removed]",
            "text/plain": [
              "<Figure size 432x288 with 1 Axes>"
            ]
          },
          "metadata": {
            "tags": []
          }
        },
        {
          "output_type": "display_data",
          "data": {
            "image/png": "[encoded data removed]",
            "text/plain": [
              "<Figure size 432x288 with 1 Axes>"
            ]
          },
          "metadata": {
            "tags": []
          }
        }
      ]
    },
    {
      "cell_type": "code",
      "metadata": {
        "id": "PozNBQZ_XHdA",
        "colab_type": "code",
        "outputId": "2a4d9968-ae51-4b3e-a1c9-2590b7380828",
        "colab": {
          "base_uri": "https://localhost:8080/",
          "height": 34
        }
      },
      "source": [
        "# Checking for duplicated records\n",
        "data.duplicated().sum()\n"
      ],
      "execution_count": 0,
      "outputs": [
        {
          "output_type": "execute_result",
          "data": {
            "text/plain": [
              "39"
            ]
          },
          "metadata": {
            "tags": []
          },
          "execution_count": 9
        }
      ]
    },
    {
      "cell_type": "code",
      "metadata": {
        "id": "7Flo0efIXL45",
        "colab_type": "code",
        "outputId": "a3470972-7477-48cb-9e05-520728685cff",
        "colab": {
          "base_uri": "https://localhost:8080/",
          "height": 34
        }
      },
      "source": [
        "# Dropping duplicates\n",
        "data.drop_duplicates(keep = 'first', inplace = True)\n",
        "data.duplicated().sum()"
      ],
      "execution_count": 0,
      "outputs": [
        {
          "output_type": "execute_result",
          "data": {
            "text/plain": [
              "0"
            ]
          },
          "metadata": {
            "tags": []
          },
          "execution_count": 10
        }
      ]
    },
    {
      "cell_type": "code",
      "metadata": {
        "id": "C2jlnbShiRlo",
        "colab_type": "code",
        "outputId": "eceb7e75-0984-4574-cf16-a654a04051e8",
        "colab": {
          "base_uri": "https://localhost:8080/",
          "height": 204
        }
      },
      "source": [
        "# Creating a new dataset with only negative sentiment tweets\n",
        "df_neg = data[data['airline_sentiment'] == 'negative'][['negativereason', 'text']]\n",
        "df_neg.head()"
      ],
      "execution_count": 0,
      "outputs": [
        {
          "output_type": "execute_result",
          "data": {
            "text/html": [
              "<div>\n",
              "<style scoped>\n",
              "    .dataframe tbody tr th:only-of-type {\n",
              "        vertical-align: middle;\n",
              "    }\n",
              "\n",
              "    .dataframe tbody tr th {\n",
              "        vertical-align: top;\n",
              "    }\n",
              "\n",
              "    .dataframe thead th {\n",
              "        text-align: right;\n",
              "    }\n",
              "</style>\n",
              "<table border=\"1\" class=\"dataframe\">\n",
              "  <thead>\n",
              "    <tr style=\"text-align: right;\">\n",
              "      <th></th>\n",
              "      <th>negativereason</th>\n",
              "      <th>text</th>\n",
              "    </tr>\n",
              "  </thead>\n",
              "  <tbody>\n",
              "    <tr>\n",
              "      <th>3</th>\n",
              "      <td>Bad Flight</td>\n",
              "      <td>@VirginAmerica it's really aggressive to blast...</td>\n",
              "    </tr>\n",
              "    <tr>\n",
              "      <th>4</th>\n",
              "      <td>Can't Tell</td>\n",
              "      <td>@VirginAmerica and it's a really big bad thing...</td>\n",
              "    </tr>\n",
              "    <tr>\n",
              "      <th>5</th>\n",
              "      <td>Can't Tell</td>\n",
              "      <td>@VirginAmerica seriously would pay $30 a fligh...</td>\n",
              "    </tr>\n",
              "    <tr>\n",
              "      <th>15</th>\n",
              "      <td>Late Flight</td>\n",
              "      <td>@VirginAmerica SFO-PDX schedule is still MIA.</td>\n",
              "    </tr>\n",
              "    <tr>\n",
              "      <th>17</th>\n",
              "      <td>Bad Flight</td>\n",
              "      <td>@VirginAmerica  I flew from NYC to SFO last we...</td>\n",
              "    </tr>\n",
              "  </tbody>\n",
              "</table>\n",
              "</div>"
            ],
            "text/plain": [
              "   negativereason                                               text\n",
              "3      Bad Flight  @VirginAmerica it's really aggressive to blast...\n",
              "4      Can't Tell  @VirginAmerica and it's a really big bad thing...\n",
              "5      Can't Tell  @VirginAmerica seriously would pay $30 a fligh...\n",
              "15    Late Flight      @VirginAmerica SFO-PDX schedule is still MIA.\n",
              "17     Bad Flight  @VirginAmerica  I flew from NYC to SFO last we..."
            ]
          },
          "metadata": {
            "tags": []
          },
          "execution_count": 11
        }
      ]
    },
    {
      "cell_type": "code",
      "metadata": {
        "id": "J8FEABvfwUXc",
        "colab_type": "code",
        "colab": {}
      },
      "source": [
        "# #removing twitter username(@virginAmerica, its repetitive and might have the training of the model yet it has no significance)\n",
        "# df_neg['text'] = df_neg['text'].str.replace('\\@\\w+\\s', ' ' )\n",
        "# #removing punctuations\n",
        "# df_neg['text'] = df_neg.text.str.replace('<[^>]+>', ' ' )\n",
        "# df_neg['text'] = df_neg.text.str.replace(\"\\s+[a-zA-Z]\\s+\", ' ' )\n",
        "# # Remove punctuations and numbers\n",
        "# df_neg['text']  = df_neg.text.str.replace('[^a-zA-Z]', ' ')\n",
        "# # Removing multiple spaces\n",
        "# df_neg['text'] = df_neg['text'].str.replace(r'\\s+', ' ')\n",
        "# # Converting all characters in the message to lower case\n",
        "# df_neg['text'] = df_neg['text'].map(lambda x: x.lower())\n",
        "# #removing single indpendent letters\n",
        "# df_neg['text'] = df_neg['text'].str.replace('\\s\\w\\s', ' ')\n",
        "# df_neg.head()"
      ],
      "execution_count": 0,
      "outputs": []
    },
    {
      "cell_type": "code",
      "metadata": {
        "id": "dDVhhoRjkaFZ",
        "colab_type": "code",
        "colab": {}
      },
      "source": [
        "# extracting negative tweets to csv file\n",
        "df_neg.to_csv('negative_tweets.csv')"
      ],
      "execution_count": 0,
      "outputs": []
    },
    {
      "cell_type": "code",
      "metadata": {
        "id": "9hOEKRqSyokT",
        "colab_type": "code",
        "outputId": "9a7345dc-5bf4-4e0a-f858-750375dda5c9",
        "colab": {
          "base_uri": "https://localhost:8080/",
          "height": 119
        }
      },
      "source": [
        "from sklearn.preprocessing import LabelEncoder\n",
        "le = LabelEncoder()\n",
        "df_neg['negativereason'] = le.fit_transform(df_neg['negativereason'])\n"
      ],
      "execution_count": 0,
      "outputs": [
        {
          "output_type": "execute_result",
          "data": {
            "text/plain": [
              "3     0\n",
              "4     1\n",
              "5     1\n",
              "15    7\n",
              "17    0\n",
              "Name: negativereason, dtype: int64"
            ]
          },
          "metadata": {
            "tags": []
          },
          "execution_count": 31
        }
      ]
    },
    {
      "cell_type": "code",
      "metadata": {
        "id": "BfWEvI_6rDSG",
        "colab_type": "code",
        "colab": {}
      },
      "source": [
        "# Packages for data preparation\n",
        "from sklearn.model_selection import train_test_split\n",
        "from nltk.corpus import stopwords\n"
      ],
      "execution_count": 0,
      "outputs": []
    },
    {
      "cell_type": "code",
      "metadata": {
        "id": "d2Z01u-Rq1OH",
        "colab_type": "code",
        "colab": {}
      },
      "source": [
        "# Splitting the tweets and labels into train and test sets\n",
        "train_text, test_text, train_y, test_y = train_test_split(df_neg['text'],df_neg['negativereason'],test_size = 0.2)"
      ],
      "execution_count": 0,
      "outputs": []
    },
    {
      "cell_type": "markdown",
      "metadata": {
        "id": "n7udBhFc40Yy",
        "colab_type": "text"
      },
      "source": [
        "Preprocessing text for the (supervised) CBOW model\n",
        "We will implement a simple classification model in Keras. Raw text requires (sometimes a lot of) preprocessing.\n",
        "\n",
        "The following cells uses Keras to preprocess text:\n",
        "\n",
        "using a tokenizer. You may use different tokenizers (from scikit-learn, NLTK, custom Python function etc.). This converts the texts into sequences of indices representing the 20000 most frequent words\n",
        "sequences have different lengths, so we pad them (add 0s at the end until the sequence is of length 1000)\n",
        "we convert the output classes as 1-hot encodings"
      ]
    },
    {
      "cell_type": "code",
      "metadata": {
        "id": "58NKBTzO44OG",
        "colab_type": "code",
        "outputId": "0060f612-5e2b-4bd0-b30d-8f9087fcc7a3",
        "colab": {
          "base_uri": "https://localhost:8080/",
          "height": 34
        }
      },
      "source": [
        "train_text.shape"
      ],
      "execution_count": 0,
      "outputs": [
        {
          "output_type": "execute_result",
          "data": {
            "text/plain": [
              "(7325,)"
            ]
          },
          "metadata": {
            "tags": []
          },
          "execution_count": 17
        }
      ]
    },
    {
      "cell_type": "code",
      "metadata": {
        "id": "7rRxPsIZ4s6j",
        "colab_type": "code",
        "outputId": "b1bf41d7-be63-4ece-a562-4b90e68ab9de",
        "colab": {
          "base_uri": "https://localhost:8080/",
          "height": 105
        }
      },
      "source": [
        " MAX_NB_WORDS = 10000\n",
        "from keras.preprocessing.text import Tokenizer\n",
        "# get the raw text data\n",
        "texts_train = train_text.astype(str)\n",
        "texts_test = test_text.astype(str)\n",
        "\n",
        "# finally, vectorize the text samples into a 2D integer tensor\n",
        "tokenizer = Tokenizer(nb_words=MAX_NB_WORDS, char_level=False)\n",
        "tokenizer.fit_on_texts(texts_train)\n",
        "sequences = tokenizer.texts_to_sequences(texts_train)\n",
        "sequences_test = tokenizer.texts_to_sequences(texts_test)\n",
        "\n",
        "word_index = tokenizer.word_index\n",
        "print('Found %s unique tokens.' % len(word_index))"
      ],
      "execution_count": 0,
      "outputs": [
        {
          "output_type": "stream",
          "text": [
            "Using TensorFlow backend.\n",
            "/usr/local/lib/python3.6/dist-packages/keras_preprocessing/text.py:178: UserWarning: The `nb_words` argument in `Tokenizer` has been renamed `num_words`.\n",
            "  warnings.warn('The `nb_words` argument in `Tokenizer` '\n"
          ],
          "name": "stderr"
        },
        {
          "output_type": "stream",
          "text": [
            "Found 9836 unique tokens.\n"
          ],
          "name": "stdout"
        }
      ]
    },
    {
      "cell_type": "code",
      "metadata": {
        "id": "3nW6VAwt5_an",
        "colab_type": "code",
        "outputId": "d561922c-a55d-44bf-fee2-890ae5a37e8b",
        "colab": {
          "base_uri": "https://localhost:8080/",
          "height": 391
        }
      },
      "source": [
        "sequences[0]"
      ],
      "execution_count": 0,
      "outputs": [
        {
          "output_type": "execute_result",
          "data": {
            "text/plain": [
              "[22,\n",
              " 3,\n",
              " 402,\n",
              " 4390,\n",
              " 86,\n",
              " 408,\n",
              " 40,\n",
              " 31,\n",
              " 165,\n",
              " 275,\n",
              " 113,\n",
              " 655,\n",
              " 294,\n",
              " 33,\n",
              " 1155,\n",
              " 8,\n",
              " 1301,\n",
              " 16,\n",
              " 490,\n",
              " 116,\n",
              " 304,\n",
              " 1540]"
            ]
          },
          "metadata": {
            "tags": []
          },
          "execution_count": 19
        }
      ]
    },
    {
      "cell_type": "markdown",
      "metadata": {
        "id": "JDaYkZy0_Rs6",
        "colab_type": "text"
      },
      "source": [
        "The tokenizer object stores a mapping (vocabulary) from word strings to token ids that can be inverted to reconstruct the original message (without formatting):"
      ]
    },
    {
      "cell_type": "code",
      "metadata": {
        "id": "IYAp0IJd_UL6",
        "colab_type": "code",
        "outputId": "052b6828-18fa-427b-efc4-c05f88ff1515",
        "colab": {
          "base_uri": "https://localhost:8080/",
          "height": 34
        }
      },
      "source": [
        "type(tokenizer.word_index), len(tokenizer.word_index)"
      ],
      "execution_count": 0,
      "outputs": [
        {
          "output_type": "execute_result",
          "data": {
            "text/plain": [
              "(dict, 9836)"
            ]
          },
          "metadata": {
            "tags": []
          },
          "execution_count": 20
        }
      ]
    },
    {
      "cell_type": "code",
      "metadata": {
        "id": "T-VO0__s9nNw",
        "colab_type": "code",
        "outputId": "ba2a7cf2-2ae4-414d-cdf6-e7db08471309",
        "colab": {
          "base_uri": "https://localhost:8080/",
          "height": 54
        }
      },
      "source": [
        "index_to_word = dict((i, w) for w, i in tokenizer.word_index.items())\n",
        "\" \".join([index_to_word[i] for i in sequences[0]])"
      ],
      "execution_count": 0,
      "outputs": [
        {
          "output_type": "execute_result",
          "data": {
            "text/plain": [
              "\"southwestair i always brag about ur service but very disappointed today apparently i'll be sleeping on floor of dallas airport tonight 👎\""
            ]
          },
          "metadata": {
            "tags": []
          },
          "execution_count": 21
        }
      ]
    },
    {
      "cell_type": "markdown",
      "metadata": {
        "id": "5fBDVKJP6Lcj",
        "colab_type": "text"
      },
      "source": [
        "Let's have a closer look at the tokenized sequences:\n",
        "\n"
      ]
    },
    {
      "cell_type": "code",
      "metadata": {
        "id": "QVsJ-z9d_m-6",
        "colab_type": "code",
        "outputId": "7400677f-e5cc-4995-8b41-aa04f36c5365",
        "colab": {
          "base_uri": "https://localhost:8080/",
          "height": 51
        }
      },
      "source": [
        "seq_lens = [len(s) for s in sequences]\n",
        "print(\"average length: %0.1f\" % np.mean(seq_lens))\n",
        "print(\"max length: %d\" % max(seq_lens))"
      ],
      "execution_count": 0,
      "outputs": [
        {
          "output_type": "stream",
          "text": [
            "average length: 20.0\n",
            "max length: 36\n"
          ],
          "name": "stdout"
        }
      ]
    },
    {
      "cell_type": "code",
      "metadata": {
        "id": "yNflfCx4_02X",
        "colab_type": "code",
        "outputId": "1e0a724c-8564-4981-b58e-d55333debef3",
        "colab": {
          "base_uri": "https://localhost:8080/",
          "height": 265
        }
      },
      "source": [
        "%matplotlib inline\n",
        "import matplotlib.pyplot as plt\n",
        "\n",
        "plt.hist(seq_lens, bins=50);"
      ],
      "execution_count": 0,
      "outputs": [
        {
          "output_type": "display_data",
          "data": {
            "image/png": "[encoded data removed]",
            "text/plain": [
              "<Figure size 432x288 with 1 Axes>"
            ]
          },
          "metadata": {
            "tags": []
          }
        }
      ]
    },
    {
      "cell_type": "code",
      "metadata": {
        "id": "Qv6OzU8xAm5s",
        "colab_type": "code",
        "outputId": "039c1dd1-5ec8-4502-b905-1b20bf23df33",
        "colab": {
          "base_uri": "https://localhost:8080/",
          "height": 51
        }
      },
      "source": [
        "from keras.preprocessing.sequence import pad_sequences\n",
        "\n",
        "MAX_SEQUENCE_LENGTH = 150\n",
        "\n",
        "# pad sequences with 0s\n",
        "x_train = pad_sequences(sequences, maxlen=MAX_SEQUENCE_LENGTH)\n",
        "x_test = pad_sequences(sequences_test, maxlen=MAX_SEQUENCE_LENGTH)\n",
        "print('Shape of data tensor:', x_train.shape)\n",
        "print('Shape of data test tensor:', x_test.shape)"
      ],
      "execution_count": 0,
      "outputs": [
        {
          "output_type": "stream",
          "text": [
            "Shape of data tensor: (7325, 150)\n",
            "Shape of data test tensor: (1832, 150)\n"
          ],
          "name": "stdout"
        }
      ]
    },
    {
      "cell_type": "code",
      "metadata": {
        "id": "zZJ_H20ShMa6",
        "colab_type": "code",
        "outputId": "919f98b6-7bd0-4985-c464-70e022254742",
        "colab": {
          "base_uri": "https://localhost:8080/",
          "height": 34
        }
      },
      "source": [
        "from keras.utils.np_utils import to_categorical\n",
        "y_train = train_y\n",
        "y_test = test_y\n",
        "\n",
        "y_train = to_categorical(np.asarray(y_train))\n",
        "print('Shape of label tensor:', y_train.shape)"
      ],
      "execution_count": 0,
      "outputs": [
        {
          "output_type": "stream",
          "text": [
            "Shape of label tensor: (7325, 10)\n"
          ],
          "name": "stdout"
        }
      ]
    },
    {
      "cell_type": "code",
      "metadata": {
        "id": "KRAJ2DXmrnCW",
        "colab_type": "code",
        "outputId": "cd9a9ea7-7237-4120-8df9-e1ca26175b67",
        "colab": {
          "base_uri": "https://localhost:8080/",
          "height": 377
        }
      },
      "source": [
        "# from tensorflow.python.keras.layers import Dense\n",
        "# from tensorflow.python.keras import Sequential\n",
        "# from keras.layers import Dense, Input, Flatten\n",
        "!pip install tensorflow==1.14.0\n"
      ],
      "execution_count": 0,
      "outputs": [
        {
          "output_type": "stream",
          "text": [
            "Requirement already satisfied: tensorflow==1.14.0 in /usr/local/lib/python3.6/dist-packages (1.14.0)\n",
            "Requirement already satisfied: keras-preprocessing>=1.0.5 in /usr/local/lib/python3.6/dist-packages (from tensorflow==1.14.0) (1.1.0)\n",
            "Requirement already satisfied: wheel>=0.26 in /usr/local/lib/python3.6/dist-packages (from tensorflow==1.14.0) (0.34.2)\n",
            "Requirement already satisfied: gast>=0.2.0 in /usr/local/lib/python3.6/dist-packages (from tensorflow==1.14.0) (0.2.2)\n",
            "Requirement already satisfied: protobuf>=3.6.1 in /usr/local/lib/python3.6/dist-packages (from tensorflow==1.14.0) (3.10.0)\n",
            "Requirement already satisfied: numpy<2.0,>=1.14.5 in /usr/local/lib/python3.6/dist-packages (from tensorflow==1.14.0) (1.17.5)\n",
            "Requirement already satisfied: google-pasta>=0.1.6 in /usr/local/lib/python3.6/dist-packages (from tensorflow==1.14.0) (0.1.8)\n",
            "Requirement already satisfied: tensorboard<1.15.0,>=1.14.0 in /usr/local/lib/python3.6/dist-packages (from tensorflow==1.14.0) (1.14.0)\n",
            "Requirement already satisfied: astor>=0.6.0 in /usr/local/lib/python3.6/dist-packages (from tensorflow==1.14.0) (0.8.1)\n",
            "Requirement already satisfied: six>=1.10.0 in /usr/local/lib/python3.6/dist-packages (from tensorflow==1.14.0) (1.12.0)\n",
            "Requirement already satisfied: keras-applications>=1.0.6 in /usr/local/lib/python3.6/dist-packages (from tensorflow==1.14.0) (1.0.8)\n",
            "Requirement already satisfied: wrapt>=1.11.1 in /usr/local/lib/python3.6/dist-packages (from tensorflow==1.14.0) (1.11.2)\n",
            "Requirement already satisfied: tensorflow-estimator<1.15.0rc0,>=1.14.0rc0 in /usr/local/lib/python3.6/dist-packages (from tensorflow==1.14.0) (1.14.0)\n",
            "Requirement already satisfied: absl-py>=0.7.0 in /usr/local/lib/python3.6/dist-packages (from tensorflow==1.14.0) (0.9.0)\n",
            "Requirement already satisfied: grpcio>=1.8.6 in /usr/local/lib/python3.6/dist-packages (from tensorflow==1.14.0) (1.27.1)\n",
            "Requirement already satisfied: termcolor>=1.1.0 in /usr/local/lib/python3.6/dist-packages (from tensorflow==1.14.0) (1.1.0)\n",
            "Requirement already satisfied: setuptools in /usr/local/lib/python3.6/dist-packages (from protobuf>=3.6.1->tensorflow==1.14.0) (45.1.0)\n",
            "Requirement already satisfied: markdown>=2.6.8 in /usr/local/lib/python3.6/dist-packages (from tensorboard<1.15.0,>=1.14.0->tensorflow==1.14.0) (3.2.1)\n",
            "Requirement already satisfied: werkzeug>=0.11.15 in /usr/local/lib/python3.6/dist-packages (from tensorboard<1.15.0,>=1.14.0->tensorflow==1.14.0) (1.0.0)\n",
            "Requirement already satisfied: h5py in /usr/local/lib/python3.6/dist-packages (from keras-applications>=1.0.6->tensorflow==1.14.0) (2.8.0)\n"
          ],
          "name": "stdout"
        }
      ]
    },
    {
      "cell_type": "code",
      "metadata": {
        "id": "5EWRrcqxaSs2",
        "colab_type": "code",
        "colab": {}
      },
      "source": [
        "from keras.layers import Dense, Input, Flatten\n",
        "from keras.layers import GlobalAveragePooling1D, Embedding\n",
        "from keras.models import Model\n",
        "\n",
        "EMBEDDING_DIM = 150\n",
        "N_CLASSES = 10\n",
        "\n",
        "# input: a sequence of MAX_SEQUENCE_LENGTH integers\n",
        "\n",
        "sequence_input = Input(shape=(MAX_SEQUENCE_LENGTH,), dtype='int32')\n",
        "\n",
        "embedding_layer = Embedding(MAX_NB_WORDS, EMBEDDING_DIM,\n",
        "                            input_length=MAX_SEQUENCE_LENGTH,\n",
        "                            trainable=True)\n",
        "embedded_sequences = embedding_layer(sequence_input)\n",
        "\n",
        "average = GlobalAveragePooling1D()(embedded_sequences)\n",
        "predictions = Dense(N_CLASSES, activation='softmax')(average)\n",
        "\n",
        "model = Model(sequence_input, predictions)\n",
        "model.compile(loss='categorical_crossentropy',\n",
        "              optimizer='adam', metrics=['acc'])"
      ],
      "execution_count": 0,
      "outputs": []
    },
    {
      "cell_type": "code",
      "metadata": {
        "id": "LIwZEGa5jTF0",
        "colab_type": "code",
        "outputId": "6190fb50-00d7-4747-c2d9-7a008f376b79",
        "colab": {
          "base_uri": "https://localhost:8080/",
          "height": 1000
        }
      },
      "source": [
        "model.fit(x_train, y_train, validation_split=0.1,\n",
        "          nb_epoch=40, batch_size=128)"
      ],
      "execution_count": 0,
      "outputs": [
        {
          "output_type": "stream",
          "text": [
            "Train on 6592 samples, validate on 733 samples\n",
            "Epoch 1/40\n",
            " 768/6592 [==>...........................] - ETA: 1s - loss: 1.0215 - acc: 0.6979"
          ],
          "name": "stdout"
        },
        {
          "output_type": "stream",
          "text": [
            "/usr/local/lib/python3.6/dist-packages/ipykernel_launcher.py:2: UserWarning: The `nb_epoch` argument in `fit` has been renamed `epochs`.\n",
            "  \n"
          ],
          "name": "stderr"
        },
        {
          "output_type": "stream",
          "text": [
            "6592/6592 [==============================] - 1s 188us/step - loss: 1.0168 - acc: 0.7013 - val_loss: 1.3078 - val_acc: 0.5675\n",
            "Epoch 2/40\n",
            "6592/6592 [==============================] - 1s 198us/step - loss: 0.9891 - acc: 0.7051 - val_loss: 1.2989 - val_acc: 0.5784\n",
            "Epoch 3/40\n",
            "6592/6592 [==============================] - 1s 211us/step - loss: 0.9633 - acc: 0.7219 - val_loss: 1.2904 - val_acc: 0.5798\n",
            "Epoch 4/40\n",
            "6592/6592 [==============================] - 1s 187us/step - loss: 0.9377 - acc: 0.7319 - val_loss: 1.2784 - val_acc: 0.5798\n",
            "Epoch 5/40\n",
            "6592/6592 [==============================] - 1s 189us/step - loss: 0.9126 - acc: 0.7426 - val_loss: 1.2760 - val_acc: 0.5894\n",
            "Epoch 6/40\n",
            "6592/6592 [==============================] - 1s 187us/step - loss: 0.8886 - acc: 0.7532 - val_loss: 1.2659 - val_acc: 0.5894\n",
            "Epoch 7/40\n",
            "6592/6592 [==============================] - 1s 187us/step - loss: 0.8656 - acc: 0.7599 - val_loss: 1.2559 - val_acc: 0.5894\n",
            "Epoch 8/40\n",
            "6592/6592 [==============================] - 1s 186us/step - loss: 0.8437 - acc: 0.7673 - val_loss: 1.2536 - val_acc: 0.5894\n",
            "Epoch 9/40\n",
            "6592/6592 [==============================] - 1s 191us/step - loss: 0.8214 - acc: 0.7746 - val_loss: 1.2469 - val_acc: 0.5975\n",
            "Epoch 10/40\n",
            "6592/6592 [==============================] - 1s 204us/step - loss: 0.7999 - acc: 0.7843 - val_loss: 1.2408 - val_acc: 0.5975\n",
            "Epoch 11/40\n",
            "6592/6592 [==============================] - 1s 206us/step - loss: 0.7786 - acc: 0.7920 - val_loss: 1.2356 - val_acc: 0.5894\n",
            "Epoch 12/40\n",
            "6592/6592 [==============================] - 1s 199us/step - loss: 0.7599 - acc: 0.7934 - val_loss: 1.2316 - val_acc: 0.6003\n",
            "Epoch 13/40\n",
            "6592/6592 [==============================] - 1s 203us/step - loss: 0.7404 - acc: 0.8032 - val_loss: 1.2279 - val_acc: 0.6003\n",
            "Epoch 14/40\n",
            "6592/6592 [==============================] - 1s 201us/step - loss: 0.7207 - acc: 0.8110 - val_loss: 1.2247 - val_acc: 0.6085\n",
            "Epoch 15/40\n",
            "6592/6592 [==============================] - 1s 204us/step - loss: 0.7035 - acc: 0.8143 - val_loss: 1.2216 - val_acc: 0.6030\n",
            "Epoch 16/40\n",
            "6592/6592 [==============================] - 1s 207us/step - loss: 0.6854 - acc: 0.8210 - val_loss: 1.2171 - val_acc: 0.6030\n",
            "Epoch 17/40\n",
            "6592/6592 [==============================] - 1s 208us/step - loss: 0.6688 - acc: 0.8266 - val_loss: 1.2148 - val_acc: 0.6085\n",
            "Epoch 18/40\n",
            "6592/6592 [==============================] - 1s 196us/step - loss: 0.6516 - acc: 0.8331 - val_loss: 1.2136 - val_acc: 0.6057\n",
            "Epoch 19/40\n",
            "6592/6592 [==============================] - 1s 188us/step - loss: 0.6358 - acc: 0.8365 - val_loss: 1.2102 - val_acc: 0.6139\n",
            "Epoch 20/40\n",
            "6592/6592 [==============================] - 1s 186us/step - loss: 0.6198 - acc: 0.8387 - val_loss: 1.2103 - val_acc: 0.6085\n",
            "Epoch 21/40\n",
            "6592/6592 [==============================] - 1s 197us/step - loss: 0.6045 - acc: 0.8427 - val_loss: 1.2082 - val_acc: 0.6139\n",
            "Epoch 22/40\n",
            "6592/6592 [==============================] - 1s 208us/step - loss: 0.5906 - acc: 0.8450 - val_loss: 1.2156 - val_acc: 0.6139\n",
            "Epoch 23/40\n",
            "6592/6592 [==============================] - 1s 208us/step - loss: 0.5766 - acc: 0.8506 - val_loss: 1.2035 - val_acc: 0.6194\n",
            "Epoch 24/40\n",
            "6592/6592 [==============================] - 1s 212us/step - loss: 0.5635 - acc: 0.8539 - val_loss: 1.2087 - val_acc: 0.6166\n",
            "Epoch 25/40\n",
            "6592/6592 [==============================] - 1s 206us/step - loss: 0.5485 - acc: 0.8551 - val_loss: 1.2101 - val_acc: 0.6139\n",
            "Epoch 26/40\n",
            "6592/6592 [==============================] - 1s 207us/step - loss: 0.5354 - acc: 0.8601 - val_loss: 1.2140 - val_acc: 0.6003\n",
            "Epoch 27/40\n",
            "6592/6592 [==============================] - 1s 207us/step - loss: 0.5228 - acc: 0.8627 - val_loss: 1.2112 - val_acc: 0.6044\n",
            "Epoch 28/40\n",
            "6592/6592 [==============================] - 1s 207us/step - loss: 0.5101 - acc: 0.8695 - val_loss: 1.2107 - val_acc: 0.6139\n",
            "Epoch 29/40\n",
            "6592/6592 [==============================] - 1s 215us/step - loss: 0.4982 - acc: 0.8723 - val_loss: 1.2096 - val_acc: 0.6112\n",
            "Epoch 30/40\n",
            "6592/6592 [==============================] - 1s 206us/step - loss: 0.4863 - acc: 0.8750 - val_loss: 1.2110 - val_acc: 0.6085\n",
            "Epoch 31/40\n",
            "6592/6592 [==============================] - 1s 196us/step - loss: 0.4741 - acc: 0.8773 - val_loss: 1.2109 - val_acc: 0.6166\n",
            "Epoch 32/40\n",
            "6592/6592 [==============================] - 1s 197us/step - loss: 0.4628 - acc: 0.8803 - val_loss: 1.2178 - val_acc: 0.6153\n",
            "Epoch 33/40\n",
            "6592/6592 [==============================] - 1s 200us/step - loss: 0.4516 - acc: 0.8847 - val_loss: 1.2204 - val_acc: 0.6139\n",
            "Epoch 34/40\n",
            "6592/6592 [==============================] - 1s 204us/step - loss: 0.4401 - acc: 0.8876 - val_loss: 1.2202 - val_acc: 0.6126\n",
            "Epoch 35/40\n",
            "6592/6592 [==============================] - 1s 204us/step - loss: 0.4312 - acc: 0.8890 - val_loss: 1.2204 - val_acc: 0.6112\n",
            "Epoch 36/40\n",
            "6592/6592 [==============================] - 1s 208us/step - loss: 0.4205 - acc: 0.8959 - val_loss: 1.2252 - val_acc: 0.6180\n",
            "Epoch 37/40\n",
            "6592/6592 [==============================] - 1s 205us/step - loss: 0.4102 - acc: 0.8964 - val_loss: 1.2275 - val_acc: 0.6153\n",
            "Epoch 38/40\n",
            "6592/6592 [==============================] - 1s 204us/step - loss: 0.4004 - acc: 0.9009 - val_loss: 1.2220 - val_acc: 0.6180\n",
            "Epoch 39/40\n",
            "6592/6592 [==============================] - 1s 205us/step - loss: 0.3915 - acc: 0.9029 - val_loss: 1.2253 - val_acc: 0.6153\n",
            "Epoch 40/40\n",
            "6592/6592 [==============================] - 1s 204us/step - loss: 0.3815 - acc: 0.9078 - val_loss: 1.2399 - val_acc: 0.6112\n"
          ],
          "name": "stdout"
        },
        {
          "output_type": "execute_result",
          "data": {
            "text/plain": [
              "<keras.callbacks.History at 0x7fc259abce10>"
            ]
          },
          "metadata": {
            "tags": []
          },
          "execution_count": 42
        }
      ]
    },
    {
      "cell_type": "code",
      "metadata": {
        "id": "9-TasBtbJcb0",
        "colab_type": "code",
        "colab": {}
      },
      "source": [
        "# input: a sequence of MAX_SEQUENCE_LENGTH integers\n",
        "from keras.layers import LSTM, Conv1D, MaxPooling1D, Dropout\n",
        "sequence_input = Input(shape=(MAX_SEQUENCE_LENGTH,), dtype='int32')\n",
        "embedded_sequences = embedding_layer(sequence_input)\n",
        "\n",
        "x = LSTM(128, dropout=0.2, recurrent_dropout=0.2)(embedded_sequences)\n",
        "predictions = Dense(10, activation='softmax')(x)\n",
        "\n",
        "\n",
        "model = Model(sequence_input, predictions)\n",
        "model.compile(loss='categorical_crossentropy',\n",
        "              optimizer='adam',\n",
        "              metrics=['acc'])"
      ],
      "execution_count": 0,
      "outputs": []
    },
    {
      "cell_type": "code",
      "metadata": {
        "id": "LvFSApoXkq5e",
        "colab_type": "code",
        "outputId": "9c4d62c1-4d26-4b0a-9481-2e894ae45252",
        "colab": {
          "base_uri": "https://localhost:8080/",
          "height": 377
        }
      },
      "source": [
        "model.fit(x_train, y_train, validation_split=0.1,\n",
        "          nb_epoch=8, batch_size=128)"
      ],
      "execution_count": 0,
      "outputs": [
        {
          "output_type": "stream",
          "text": [
            "/usr/local/lib/python3.6/dist-packages/ipykernel_launcher.py:2: UserWarning: The `nb_epoch` argument in `fit` has been renamed `epochs`.\n",
            "  \n"
          ],
          "name": "stderr"
        },
        {
          "output_type": "stream",
          "text": [
            "Train on 6592 samples, validate on 733 samples\n",
            "Epoch 1/8\n",
            "6592/6592 [==============================] - 46s 7ms/step - loss: 0.0761 - acc: 0.9756 - val_loss: 2.4217 - val_acc: 0.5853\n",
            "Epoch 2/8\n",
            "6592/6592 [==============================] - 46s 7ms/step - loss: 0.0685 - acc: 0.9789 - val_loss: 2.5248 - val_acc: 0.5771\n",
            "Epoch 3/8\n",
            "6592/6592 [==============================] - 45s 7ms/step - loss: 0.0632 - acc: 0.9804 - val_loss: 2.4182 - val_acc: 0.5880\n",
            "Epoch 4/8\n",
            "6592/6592 [==============================] - 44s 7ms/step - loss: 0.0562 - acc: 0.9835 - val_loss: 2.6760 - val_acc: 0.5662\n",
            "Epoch 5/8\n",
            "6592/6592 [==============================] - 44s 7ms/step - loss: 0.0518 - acc: 0.9850 - val_loss: 2.5902 - val_acc: 0.5839\n",
            "Epoch 6/8\n",
            "6592/6592 [==============================] - 43s 6ms/step - loss: 0.0477 - acc: 0.9853 - val_loss: 2.6946 - val_acc: 0.5771\n",
            "Epoch 7/8\n",
            "6592/6592 [==============================] - 41s 6ms/step - loss: 0.0469 - acc: 0.9856 - val_loss: 2.7394 - val_acc: 0.5825\n",
            "Epoch 8/8\n",
            "6592/6592 [==============================] - 42s 6ms/step - loss: 0.0408 - acc: 0.9889 - val_loss: 2.8237 - val_acc: 0.5880\n"
          ],
          "name": "stdout"
        },
        {
          "output_type": "execute_result",
          "data": {
            "text/plain": [
              "<keras.callbacks.History at 0x7fc255dfc198>"
            ]
          },
          "metadata": {
            "tags": []
          },
          "execution_count": 50
        }
      ]
    },
    {
      "cell_type": "code",
      "metadata": {
        "id": "uvCBvQE_SJm6",
        "colab_type": "code",
        "outputId": "3736ac1b-363b-49fb-e30f-cfa8b745aa67",
        "colab": {
          "base_uri": "https://localhost:8080/",
          "height": 255
        }
      },
      "source": [
        "embedding = \"https://tfhub.dev/google/tf2-preview/nnlm-en-dim50/1\"\n",
        "hub_layer = hub.KerasLayer(embedding, input_shape=[], \n",
        "                           dtype=tf.string, trainable=True)\n",
        "hub_layer(train_text)\n",
        "\n",
        "\n",
        "# hub_layer = hub.KerasLayer(embedding, input_shape=[], \n",
        "                          #  dtype=tf.string, trainable=True)\n",
        "# hub_layer(x_test)"
      ],
      "execution_count": 0,
      "outputs": [
        {
          "output_type": "execute_result",
          "data": {
            "text/plain": [
              "<tf.Tensor: shape=(7325, 50), dtype=float32, numpy=\n",
              "array([[ 0.23209932,  0.09930316, -0.16737647, ..., -0.16813202,\n",
              "         0.08097278,  0.44308537],\n",
              "       [ 0.4194339 , -0.18075328, -0.23868965, ..., -0.16100903,\n",
              "        -0.01291952,  0.29614103],\n",
              "       [ 0.5074602 ,  0.11622936, -0.23083562, ..., -0.21178815,\n",
              "        -0.08915531,  0.12203416],\n",
              "       ...,\n",
              "       [ 0.42551106, -0.06255901,  0.0021237 , ..., -0.13290864,\n",
              "        -0.03075016,  0.22596468],\n",
              "       [ 0.11743198, -0.20251235, -0.15701696, ..., -0.11113952,\n",
              "         0.09976719,  0.1921778 ],\n",
              "       [ 0.3348192 ,  0.05176795,  0.15665843, ..., -0.2740065 ,\n",
              "         0.10084584,  0.10243692]], dtype=float32)>"
            ]
          },
          "metadata": {
            "tags": []
          },
          "execution_count": 67
        }
      ]
    }
  ]
}